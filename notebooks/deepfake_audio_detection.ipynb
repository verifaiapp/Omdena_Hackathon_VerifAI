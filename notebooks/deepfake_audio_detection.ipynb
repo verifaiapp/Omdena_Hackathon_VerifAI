{
  "cells": [
    {
      "cell_type": "markdown",
      "metadata": {
        "id": "l91vqk-tz0xx"
      },
      "source": [
        "# Deepfake Audio Detection using CNN\n",
        "\n",
        "Project by:  \n",
        "[Jen Patrick Nataba](https://ph.linkedin.com/in/cytojen)  \n",
        "[John Ferry Lagman](https://ph.linkedin.com/in/thatjohnlagman)"
      ]
    },
    {
      "cell_type": "code",
      "execution_count": 1,
      "metadata": {
        "colab": {
          "base_uri": "https://localhost:8080/"
        },
        "id": "oDI9UUOE0gtY",
        "outputId": "57ef39eb-9106-4ffb-d3ed-7f0bbaae7f6c"
      },
      "outputs": [
        {
          "name": "stdout",
          "output_type": "stream",
          "text": [
            "Mounted at /content/drive\n"
          ]
        }
      ],
      "source": [
        "from google.colab import drive\n",
        "drive.mount('/content/drive')"
      ]
    },
    {
      "cell_type": "markdown",
      "metadata": {
        "id": "Y3hsJoozz8Jj"
      },
      "source": [
        "# necessary imports"
      ]
    },
    {
      "cell_type": "code",
      "execution_count": null,
      "metadata": {
        "_cell_guid": "b1076dfc-b9ad-4769-8c92-a6c4dae69d19",
        "_uuid": "8f2839f25d086af736a60e9eeb907d3b93b6e0e5",
        "execution": {
          "iopub.execute_input": "2024-12-22T09:49:36.168680Z",
          "iopub.status.busy": "2024-12-22T09:49:36.168361Z",
          "iopub.status.idle": "2024-12-22T09:49:53.353560Z",
          "shell.execute_reply": "2024-12-22T09:49:53.352705Z",
          "shell.execute_reply.started": "2024-12-22T09:49:36.168655Z"
        },
        "id": "XTyg2rlGz0KY",
        "outputId": "0c9b0f36-a1de-42b6-9bb3-b280604e1077",
        "trusted": true
      },
      "outputs": [
        {
          "name": "stderr",
          "output_type": "stream",
          "text": [
            "<ipython-input-1-8210ce09cfe3>:7: DeprecationWarning: `import kerastuner` is deprecated, please use `import keras_tuner`.\n",
            "  from kerastuner.tuners import RandomSearch\n"
          ]
        }
      ],
      "source": [
        "import os\n",
        "import numpy as np\n",
        "import pandas as pd\n",
        "from tensorflow.keras.preprocessing.image import ImageDataGenerator\n",
        "from tensorflow.keras.models import Model\n",
        "from tensorflow.keras.layers import Input, Conv2D, MaxPooling2D, Flatten, Dense\n",
        "from kerastuner.tuners import RandomSearch\n",
        "from tensorflow.keras.callbacks import EarlyStopping, ReduceLROnPlateau\n",
        "from sklearn.metrics import accuracy_score, classification_report, confusion_matrix, roc_curve\n",
        "\n",
        "input_path = '/content/drive/MyDrive/omdena_hackathon/datasets/deepfake_audio'\n",
        "train_path = os.path.join(input_path, 'training')\n",
        "val_path = os.path.join(input_path, 'validation')\n",
        "test_path = os.path.join(input_path, 'testing')"
      ]
    },
    {
      "cell_type": "markdown",
      "metadata": {
        "id": "VoNOykeQ0HPr"
      },
      "source": [
        "# data preprocessing and augmentation"
      ]
    },
    {
      "cell_type": "code",
      "execution_count": null,
      "metadata": {
        "execution": {
          "iopub.execute_input": "2024-12-22T09:49:53.354924Z",
          "iopub.status.busy": "2024-12-22T09:49:53.354361Z",
          "iopub.status.idle": "2024-12-22T09:49:53.358697Z",
          "shell.execute_reply": "2024-12-22T09:49:53.358016Z",
          "shell.execute_reply.started": "2024-12-22T09:49:53.354891Z"
        },
        "id": "ILe9K-xMz0KZ",
        "trusted": true
      },
      "outputs": [],
      "source": [
        "batch_size = 32\n",
        "image_height = 224\n",
        "image_width = 224\n",
        "\n",
        "datagen = ImageDataGenerator(rescale=1./255)"
      ]
    },
    {
      "cell_type": "code",
      "execution_count": null,
      "metadata": {
        "execution": {
          "iopub.execute_input": "2024-12-22T09:49:53.359675Z",
          "iopub.status.busy": "2024-12-22T09:49:53.359393Z",
          "iopub.status.idle": "2024-12-22T09:50:13.987736Z",
          "shell.execute_reply": "2024-12-22T09:50:13.986868Z",
          "shell.execute_reply.started": "2024-12-22T09:49:53.359647Z"
        },
        "id": "lq_lVyyGz0KZ",
        "outputId": "fcb29b17-ae8a-4411-f570-bb0b0d322e65",
        "trusted": true
      },
      "outputs": [
        {
          "name": "stdout",
          "output_type": "stream",
          "text": [
            "Found 9600 images belonging to 2 classes.\n",
            "Found 1200 images belonging to 2 classes.\n",
            "Found 1200 images belonging to 2 classes.\n"
          ]
        }
      ],
      "source": [
        "train_generator = datagen.flow_from_directory(\n",
        "    train_path,\n",
        "    target_size=(image_height, image_width),\n",
        "    batch_size=batch_size,\n",
        "    class_mode='binary',\n",
        "    shuffle=True\n",
        ")\n",
        "\n",
        "val_generator = datagen.flow_from_directory(\n",
        "    val_path,\n",
        "    target_size=(image_height, image_width),\n",
        "    batch_size=batch_size,\n",
        "    class_mode='binary',\n",
        "    shuffle=True\n",
        ")\n",
        "\n",
        "test_generator = datagen.flow_from_directory(\n",
        "    test_path,\n",
        "    target_size=(image_height, image_width),\n",
        "    batch_size=1,\n",
        "    class_mode='binary',\n",
        "    shuffle=False\n",
        ")"
      ]
    },
    {
      "cell_type": "markdown",
      "metadata": {
        "id": "Yv3xxE3r0SA9"
      },
      "source": [
        "# define the model"
      ]
    },
    {
      "cell_type": "code",
      "execution_count": null,
      "metadata": {
        "execution": {
          "iopub.execute_input": "2024-12-22T09:50:13.988939Z",
          "iopub.status.busy": "2024-12-22T09:50:13.988636Z",
          "iopub.status.idle": "2024-12-22T09:50:13.995271Z",
          "shell.execute_reply": "2024-12-22T09:50:13.994478Z",
          "shell.execute_reply.started": "2024-12-22T09:50:13.988909Z"
        },
        "id": "KrImJoE1z0Ka",
        "trusted": true
      },
      "outputs": [],
      "source": [
        "def build_cnn_model(hp):\n",
        "    input_layer = Input(shape=(image_height, image_width, 3))\n",
        "\n",
        "    x = Conv2D(\n",
        "        filters=hp.Int('filters_1', min_value=32, max_value=128, step=32),\n",
        "        kernel_size=hp.Choice('kernel_size_1', values=[3, 5]),\n",
        "        activation='relu'\n",
        "    )(input_layer)\n",
        "    x = MaxPooling2D(pool_size=2)(x)\n",
        "\n",
        "    x = Conv2D(\n",
        "        filters=hp.Int('filters_2', min_value=64, max_value=256, step=64),\n",
        "        kernel_size=hp.Choice('kernel_size_2', values=[3, 5]),\n",
        "        activation='relu'\n",
        "    )(x)\n",
        "    x = MaxPooling2D(pool_size=2)(x)\n",
        "\n",
        "    x = Flatten()(x)\n",
        "    x = Dense(units=hp.Int('dense_units', min_value=64, max_value=256, step=64), activation='relu')(x)\n",
        "    output_layer = Dense(1, activation='sigmoid')(x)\n",
        "\n",
        "    model = Model(inputs=input_layer, outputs=output_layer)\n",
        "\n",
        "    learning_rate = hp.Float('learning_rate', min_value=1e-5, max_value=1e-3, sampling='LOG')\n",
        "    optimizer = hp.Choice('optimizer', values=['adam', 'rmsprop'])\n",
        "\n",
        "    model.compile(optimizer=optimizer, loss='binary_crossentropy', metrics=['accuracy'])\n",
        "    return model"
      ]
    },
    {
      "cell_type": "code",
      "execution_count": null,
      "metadata": {
        "execution": {
          "iopub.execute_input": "2024-12-22T09:50:13.996349Z",
          "iopub.status.busy": "2024-12-22T09:50:13.996067Z",
          "iopub.status.idle": "2024-12-22T11:21:19.051229Z",
          "shell.execute_reply": "2024-12-22T11:21:19.050517Z",
          "shell.execute_reply.started": "2024-12-22T09:50:13.996322Z"
        },
        "id": "qeELSoi-z0Ka",
        "outputId": "bb3f32b2-416c-4ab0-c566-565c60176b58",
        "trusted": true
      },
      "outputs": [
        {
          "name": "stdout",
          "output_type": "stream",
          "text": [
            "Trial 10 Complete [00h 08m 00s]\n",
            "val_accuracy: 0.8454166650772095\n",
            "\n",
            "Best val_accuracy So Far: 0.8779166638851166\n",
            "Total elapsed time: 01h 31m 04s\n"
          ]
        }
      ],
      "source": [
        "tuner = RandomSearch(\n",
        "    build_cnn_model,\n",
        "    objective='val_accuracy',\n",
        "    max_trials=10,\n",
        "    executions_per_trial=2,\n",
        "    directory='/content/drive/MyDrive/omdena_hackathon/models/deepfake_audio_detection/tuning',\n",
        "    project_name='cnn_audio_deepfake'\n",
        ")\n",
        "\n",
        "early_stop = EarlyStopping(monitor='val_loss', patience=5, restore_best_weights=True)\n",
        "reduce_lr = ReduceLROnPlateau(factor=0.2, patience=3, min_delta=0.005)\n",
        "\n",
        "tuner.search(\n",
        "    train_generator,\n",
        "    epochs=50,\n",
        "    steps_per_epoch=train_generator.n // batch_size,\n",
        "    validation_data=val_generator,\n",
        "    callbacks=[early_stop, reduce_lr]\n",
        ")"
      ]
    },
    {
      "cell_type": "code",
      "execution_count": null,
      "metadata": {
        "execution": {
          "iopub.execute_input": "2024-12-22T11:21:19.053015Z",
          "iopub.status.busy": "2024-12-22T11:21:19.052806Z",
          "iopub.status.idle": "2024-12-22T11:24:48.195929Z",
          "shell.execute_reply": "2024-12-22T11:24:48.195057Z",
          "shell.execute_reply.started": "2024-12-22T11:21:19.052997Z"
        },
        "id": "jtmPLDIYz0Ka",
        "outputId": "fbd5fcae-d09d-4be7-9ab0-cf9800c8dec3",
        "trusted": true
      },
      "outputs": [
        {
          "name": "stderr",
          "output_type": "stream",
          "text": [
            "/usr/local/lib/python3.10/dist-packages/keras/src/saving/saving_lib.py:576: UserWarning: Skipping variable loading for optimizer 'rmsprop', because it has 2 variables whereas the saved optimizer has 10 variables. \n",
            "  saveable.load_own_variables(weights_store.get(inner_path))\n"
          ]
        },
        {
          "name": "stdout",
          "output_type": "stream",
          "text": [
            "Epoch 1/50\n",
            "\u001b[1m300/300\u001b[0m \u001b[32m━━━━━━━━━━━━━━━━━━━━\u001b[0m\u001b[37m\u001b[0m \u001b[1m51s\u001b[0m 161ms/step - accuracy: 0.9053 - loss: 0.2833 - val_accuracy: 0.8958 - val_loss: 0.3870 - learning_rate: 0.0010\n",
            "Epoch 2/50\n",
            "\u001b[1m300/300\u001b[0m \u001b[32m━━━━━━━━━━━━━━━━━━━━\u001b[0m\u001b[37m\u001b[0m \u001b[1m5s\u001b[0m 18ms/step - accuracy: 0.0000e+00 - loss: 0.0000e+00 - val_accuracy: 0.8958 - val_loss: 0.3870 - learning_rate: 0.0010\n",
            "Epoch 3/50\n",
            "\u001b[1m300/300\u001b[0m \u001b[32m━━━━━━━━━━━━━━━━━━━━\u001b[0m\u001b[37m\u001b[0m \u001b[1m47s\u001b[0m 154ms/step - accuracy: 0.9588 - loss: 0.1203 - val_accuracy: 0.8242 - val_loss: 1.0294 - learning_rate: 0.0010\n",
            "Epoch 4/50\n",
            "\u001b[1m300/300\u001b[0m \u001b[32m━━━━━━━━━━━━━━━━━━━━\u001b[0m\u001b[37m\u001b[0m \u001b[1m5s\u001b[0m 17ms/step - accuracy: 0.0000e+00 - loss: 0.0000e+00 - val_accuracy: 0.8242 - val_loss: 1.0294 - learning_rate: 0.0010\n",
            "Epoch 5/50\n",
            "\u001b[1m300/300\u001b[0m \u001b[32m━━━━━━━━━━━━━━━━━━━━\u001b[0m\u001b[37m\u001b[0m \u001b[1m48s\u001b[0m 155ms/step - accuracy: 0.9939 - loss: 0.0207 - val_accuracy: 0.8675 - val_loss: 0.9997 - learning_rate: 2.0000e-04\n",
            "Epoch 6/50\n",
            "\u001b[1m300/300\u001b[0m \u001b[32m━━━━━━━━━━━━━━━━━━━━\u001b[0m\u001b[37m\u001b[0m \u001b[1m5s\u001b[0m 17ms/step - accuracy: 0.0000e+00 - loss: 0.0000e+00 - val_accuracy: 0.8675 - val_loss: 0.9997 - learning_rate: 2.0000e-04\n",
            "Epoch 7/50\n",
            "\u001b[1m300/300\u001b[0m \u001b[32m━━━━━━━━━━━━━━━━━━━━\u001b[0m\u001b[37m\u001b[0m \u001b[1m47s\u001b[0m 152ms/step - accuracy: 0.9995 - loss: 0.0051 - val_accuracy: 0.8867 - val_loss: 0.8918 - learning_rate: 2.0000e-04\n"
          ]
        },
        {
          "data": {
            "text/plain": [
              "<keras.src.callbacks.history.History at 0x78917c643a00>"
            ]
          },
          "execution_count": 6,
          "metadata": {},
          "output_type": "execute_result"
        }
      ],
      "source": [
        "best_cnn_model = tuner.get_best_models(num_models=1)[0]\n",
        "\n",
        "best_cnn_model.fit(\n",
        "    train_generator,\n",
        "    epochs=50,\n",
        "    steps_per_epoch=train_generator.n // batch_size,\n",
        "    validation_data=val_generator,\n",
        "    callbacks=[early_stop, reduce_lr]\n",
        ")"
      ]
    },
    {
      "cell_type": "markdown",
      "metadata": {
        "id": "Qx7jWWrF0U5v"
      },
      "source": [
        "# performance metrics"
      ]
    },
    {
      "cell_type": "code",
      "execution_count": null,
      "metadata": {
        "execution": {
          "iopub.execute_input": "2024-12-22T11:24:48.197433Z",
          "iopub.status.busy": "2024-12-22T11:24:48.197113Z",
          "iopub.status.idle": "2024-12-22T11:25:03.382989Z",
          "shell.execute_reply": "2024-12-22T11:25:03.382132Z",
          "shell.execute_reply.started": "2024-12-22T11:24:48.197403Z"
        },
        "id": "0t6DYl9gz0Ka",
        "outputId": "b0687538-e44f-4536-975c-68ecf43911f0",
        "trusted": true
      },
      "outputs": [
        {
          "name": "stdout",
          "output_type": "stream",
          "text": [
            "\u001b[1m1200/1200\u001b[0m \u001b[32m━━━━━━━━━━━━━━━━━━━━\u001b[0m\u001b[37m\u001b[0m \u001b[1m14s\u001b[0m 11ms/step\n",
            "EER: 13.50% at threshold: 0.3067167401313782\n",
            "Test Classification Report:\n",
            "              precision    recall  f1-score   support\n",
            "\n",
            "        FAKE       0.86      0.87      0.87       600\n",
            "        REAL       0.87      0.86      0.86       600\n",
            "\n",
            "    accuracy                           0.86      1200\n",
            "   macro avg       0.87      0.86      0.86      1200\n",
            "weighted avg       0.87      0.86      0.86      1200\n",
            "\n",
            "Test Confusion Matrix:\n",
            "[[520  80]\n",
            " [ 82 518]]\n",
            "Test Accuracy: 0.8650\n"
          ]
        }
      ],
      "source": [
        "# eval\n",
        "def compute_eer(y_true, y_scores):\n",
        "    fpr, tpr, thresholds = roc_curve(y_true, y_scores, pos_label=1)\n",
        "    fnr = 1 - tpr\n",
        "    eer_threshold = thresholds[np.nanargmin(np.absolute((fnr - fpr)))]\n",
        "    eer = fpr[np.nanargmin(np.absolute((fnr - fpr)))]\n",
        "    return eer, eer_threshold\n",
        "\n",
        "# predict probabilities on the test set\n",
        "y_pred_prob = np.squeeze(best_cnn_model.predict(test_generator, steps=len(test_generator)))\n",
        "\n",
        "# EER and threshold\n",
        "eer, eer_threshold = compute_eer(test_generator.classes, y_pred_prob)\n",
        "print(f'EER: {eer * 100:.2f}% at threshold: {eer_threshold}')\n",
        "\n",
        "# this will convert predictions to binary labels using the EER threshold\n",
        "y_pred = (y_pred_prob > eer_threshold).astype(int)\n",
        "\n",
        "print('Test Classification Report:')\n",
        "print(classification_report(test_generator.classes, y_pred, target_names=['FAKE', 'REAL']))\n",
        "print('Test Confusion Matrix:')\n",
        "print(confusion_matrix(test_generator.classes, y_pred))\n",
        "\n",
        "test_accuracy = accuracy_score(test_generator.classes, y_pred)\n",
        "print(f'Test Accuracy: {test_accuracy:.4f}')"
      ]
    },
    {
      "cell_type": "markdown",
      "metadata": {
        "id": "Cuz9qj2j0xsV"
      },
      "source": [
        "# thoughts\n",
        "Building this CNN for classifying AI-generated audio was a mix of challenges and wins. Tuning with RandomSearch was resource-heavy but worth it, and calculating EER added a nice touch to the evaluation. The setup went smoothly, but making sure the model didn’t overfit took some tweaking. The results showed solid progress and areas to improve. Overall, a great learning experience!\n",
        "\n",
        "\n",
        "\n",
        "\n",
        "\n",
        "\n"
      ]
    }
  ],
  "metadata": {
    "colab": {
      "provenance": []
    },
    "kaggle": {
      "accelerator": "nvidiaTeslaT4",
      "dataSources": [
        {
          "datasetId": 5432595,
          "sourceId": 9031346,
          "sourceType": "datasetVersion"
        }
      ],
      "dockerImageVersionId": 30823,
      "isGpuEnabled": true,
      "isInternetEnabled": true,
      "language": "python",
      "sourceType": "notebook"
    },
    "kernelspec": {
      "display_name": "Python 3",
      "language": "python",
      "name": "python3"
    },
    "language_info": {
      "codemirror_mode": {
        "name": "ipython",
        "version": 3
      },
      "file_extension": ".py",
      "mimetype": "text/x-python",
      "name": "python",
      "nbconvert_exporter": "python",
      "pygments_lexer": "ipython3",
      "version": "3.10.12"
    }
  },
  "nbformat": 4,
  "nbformat_minor": 0
}
