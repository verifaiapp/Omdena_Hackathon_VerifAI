{
  "cells": [
    {
      "cell_type": "markdown",
      "metadata": {
        "id": "D6BS1vbiwJj_"
      },
      "source": [
        "# Deepfake Image detection using ViT\n",
        "\n",
        "Project by:  \n",
        "[Jen Patrick Nataba](https://ph.linkedin.com/in/cytojen)  \n",
        "[John Ferry Lagman](https://ph.linkedin.com/in/thatjohnlagman)"
      ]
    },
    {
      "cell_type": "code",
      "execution_count": 2,
      "metadata": {
        "colab": {
          "base_uri": "https://localhost:8080/"
        },
        "id": "rqddsEUqwM2P",
        "outputId": "f4eaf26d-6aa8-4764-f322-470ba324b3a0"
      },
      "outputs": [
        {
          "name": "stdout",
          "output_type": "stream",
          "text": [
            "Mounted at /content/drive\n"
          ]
        }
      ],
      "source": [
        "from google.colab import drive\n",
        "drive.mount('/content/drive')"
      ]
    },
    {
      "cell_type": "code",
      "execution_count": null,
      "metadata": {
        "execution": {
          "iopub.execute_input": "2024-12-22T14:41:37.201949Z",
          "iopub.status.busy": "2024-12-22T14:41:37.201660Z",
          "iopub.status.idle": "2024-12-22T14:41:40.719583Z",
          "shell.execute_reply": "2024-12-22T14:41:40.718404Z",
          "shell.execute_reply.started": "2024-12-22T14:41:37.201927Z"
        },
        "id": "SMa5VdGHwJkA",
        "trusted": true
      },
      "outputs": [],
      "source": [
        "!pip install evaluate transformers datasets accelerate"
      ]
    },
    {
      "cell_type": "markdown",
      "metadata": {
        "id": "pQ4AF1VNwJkB"
      },
      "source": [
        "# Importing"
      ]
    },
    {
      "cell_type": "code",
      "execution_count": null,
      "metadata": {
        "_cell_guid": "b1076dfc-b9ad-4769-8c92-a6c4dae69d19",
        "_uuid": "8f2839f25d086af736a60e9eeb907d3b93b6e0e5",
        "execution": {
          "iopub.execute_input": "2024-12-22T14:43:08.022511Z",
          "iopub.status.busy": "2024-12-22T14:43:08.022070Z",
          "iopub.status.idle": "2024-12-22T14:43:08.030328Z",
          "shell.execute_reply": "2024-12-22T14:43:08.029338Z",
          "shell.execute_reply.started": "2024-12-22T14:43:08.022472Z"
        },
        "id": "Gm1ocBkJwJkB",
        "trusted": true
      },
      "outputs": [],
      "source": [
        "import gc\n",
        "import numpy as np\n",
        "import pandas as pd\n",
        "import itertools\n",
        "import matplotlib.pyplot as plt\n",
        "from sklearn.metrics import accuracy_score, confusion_matrix, classification_report, f1_score\n",
        "\n",
        "from imblearn.over_sampling import RandomOverSampler\n",
        "import evaluate\n",
        "from datasets import Dataset, Image, ClassLabel\n",
        "from transformers import (\n",
        "    TrainingArguments,\n",
        "    Trainer,\n",
        "    ViTImageProcessor,\n",
        "    ViTForImageClassification,\n",
        "    )\n",
        "import torch\n",
        "from torchvision.transforms import (\n",
        "    Compose,\n",
        "    Normalize,\n",
        "    RandomRotation,\n",
        "    RandomAdjustSharpness,\n",
        "    Resize,\n",
        "    ToTensor\n",
        ")"
      ]
    },
    {
      "cell_type": "code",
      "execution_count": null,
      "metadata": {
        "execution": {
          "iopub.execute_input": "2024-12-22T14:41:44.731102Z",
          "iopub.status.busy": "2024-12-22T14:41:44.730814Z",
          "iopub.status.idle": "2024-12-22T14:41:44.735060Z",
          "shell.execute_reply": "2024-12-22T14:41:44.734095Z",
          "shell.execute_reply.started": "2024-12-22T14:41:44.731081Z"
        },
        "id": "qreMb9NZwJkC",
        "trusted": true
      },
      "outputs": [],
      "source": [
        "from PIL import ImageFile\n",
        "ImageFile.LOAD_TRUNCATED_IMAGES = True\n",
        "from pathlib import Path"
      ]
    },
    {
      "cell_type": "markdown",
      "metadata": {
        "id": "6UXVQoX4wJkC"
      },
      "source": [
        "# loading and preprocessing"
      ]
    },
    {
      "cell_type": "code",
      "execution_count": null,
      "metadata": {
        "execution": {
          "iopub.execute_input": "2024-12-22T14:41:46.570581Z",
          "iopub.status.busy": "2024-12-22T14:41:46.570255Z",
          "iopub.status.idle": "2024-12-22T14:41:46.577823Z",
          "shell.execute_reply": "2024-12-22T14:41:46.577080Z",
          "shell.execute_reply.started": "2024-12-22T14:41:46.570554Z"
        },
        "id": "ErGbd4jcwJkC",
        "trusted": true
      },
      "outputs": [],
      "source": [
        "def load_and_preprocess_data(data_path):\n",
        "    file_names = []\n",
        "    labels = []\n",
        "    for file in sorted((Path(data_path).glob('*/*/*.*'))):\n",
        "        label = str(file).split('/')[-2]\n",
        "        labels.append(label)\n",
        "        file_names.append(str(file))\n",
        "\n",
        "    df = pd.DataFrame.from_dict({\"image\": file_names, \"label\": labels})\n",
        "\n",
        "    y = df[['label']]\n",
        "    df = df.drop(['label'], axis=1)\n",
        "    ros = RandomOverSampler(random_state=83)\n",
        "    df, y_resampled = ros.fit_resample(df, y)\n",
        "    del y\n",
        "    df['label'] = y_resampled\n",
        "    del y_resampled\n",
        "    gc.collect()\n",
        "\n",
        "    dataset = Dataset.from_pandas(df).cast_column(\"image\", Image())\n",
        "\n",
        "    labels_list = ['Real', 'Fake']\n",
        "    label2id, id2label = dict(), dict()\n",
        "    for i, label in enumerate(labels_list):\n",
        "        label2id[label] = i\n",
        "        id2label[i] = label\n",
        "\n",
        "    ClassLabels = ClassLabel(num_classes=len(labels_list), names=labels_list)\n",
        "\n",
        "    def map_label2id(example):\n",
        "        example['label'] = ClassLabels.str2int(example['label'])\n",
        "        return example\n",
        "\n",
        "    dataset = dataset.map(map_label2id, batched=True)\n",
        "    dataset = dataset.cast_column('label', ClassLabels)\n",
        "    dataset = dataset.train_test_split(test_size=0.4, shuffle=True, stratify_by_column=\"label\")\n",
        "    train_data = dataset['train']\n",
        "    test_data = dataset['test']\n",
        "\n",
        "    return train_data, test_data, labels_list, id2label, label2id"
      ]
    },
    {
      "cell_type": "code",
      "execution_count": null,
      "metadata": {
        "execution": {
          "iopub.execute_input": "2024-12-22T14:41:49.717799Z",
          "iopub.status.busy": "2024-12-22T14:41:49.717525Z",
          "iopub.status.idle": "2024-12-22T14:41:49.722955Z",
          "shell.execute_reply": "2024-12-22T14:41:49.722151Z",
          "shell.execute_reply.started": "2024-12-22T14:41:49.717781Z"
        },
        "id": "3vufb3NPwJkD",
        "trusted": true
      },
      "outputs": [],
      "source": [
        "def define_transforms(image_mean, image_std, size):\n",
        "    normalize = Normalize(mean=image_mean, std=image_std)\n",
        "    _train_transforms = Compose(\n",
        "        [\n",
        "            Resize((size, size)),\n",
        "            RandomRotation(90),\n",
        "            RandomAdjustSharpness(2),\n",
        "            ToTensor(),\n",
        "            normalize\n",
        "        ]\n",
        "    )\n",
        "    _val_transforms = Compose(\n",
        "        [\n",
        "            Resize((size, size)),\n",
        "            ToTensor(),\n",
        "            normalize\n",
        "        ]\n",
        "    )\n",
        "\n",
        "    def train_transforms(examples):\n",
        "        examples['pixel_values'] = [_train_transforms(image.convert(\"RGB\")) for image in examples['image']]\n",
        "        return examples\n",
        "\n",
        "    def val_transforms(examples):\n",
        "        examples['pixel_values'] = [_val_transforms(image.convert(\"RGB\")) for image in examples['image']]\n",
        "        return examples\n",
        "\n",
        "    return train_transforms, val_transforms"
      ]
    },
    {
      "cell_type": "code",
      "execution_count": null,
      "metadata": {
        "execution": {
          "iopub.execute_input": "2024-12-22T14:41:51.392631Z",
          "iopub.status.busy": "2024-12-22T14:41:51.392261Z",
          "iopub.status.idle": "2024-12-22T14:41:51.396981Z",
          "shell.execute_reply": "2024-12-22T14:41:51.396036Z",
          "shell.execute_reply.started": "2024-12-22T14:41:51.392584Z"
        },
        "id": "3Ucvo2ZQwJkD",
        "trusted": true
      },
      "outputs": [],
      "source": [
        "def compute_metrics(eval_pred):\n",
        "    predictions = eval_pred.predictions\n",
        "    label_ids = eval_pred.label_ids\n",
        "    predicted_labels = predictions.argmax(axis=1)\n",
        "    acc_score = accuracy.compute(predictions=predicted_labels, references=label_ids)['accuracy']\n",
        "    return {\n",
        "        \"accuracy\": acc_score\n",
        "    }\n"
      ]
    },
    {
      "cell_type": "code",
      "execution_count": null,
      "metadata": {
        "execution": {
          "iopub.execute_input": "2024-12-22T14:41:53.767350Z",
          "iopub.status.busy": "2024-12-22T14:41:53.767080Z",
          "iopub.status.idle": "2024-12-22T14:41:53.772839Z",
          "shell.execute_reply": "2024-12-22T14:41:53.771927Z",
          "shell.execute_reply.started": "2024-12-22T14:41:53.767329Z"
        },
        "id": "4fmR2kK2wJkD",
        "trusted": true
      },
      "outputs": [],
      "source": [
        "def plot_confusion_matrix(cm, classes, title='Confusion Matrix', cmap=plt.cm.Blues, figsize=(10, 8)):\n",
        "    plt.figure(figsize=figsize)\n",
        "    plt.imshow(cm, interpolation='nearest', cmap=cmap)\n",
        "    plt.title(title)\n",
        "    plt.colorbar()\n",
        "    tick_marks = np.arange(len(classes))\n",
        "    plt.xticks(tick_marks, classes, rotation=90)\n",
        "    plt.yticks(tick_marks, classes)\n",
        "    fmt = '.0f'\n",
        "    thresh = cm.max() / 2.0\n",
        "    for i, j in itertools.product(range(cm.shape[0]), range(cm.shape[1])):\n",
        "        plt.text(j, i, format(cm[i, j], fmt), horizontalalignment=\"center\", color=\"white\" if cm[i, j] > thresh else \"black\")\n",
        "    plt.ylabel('True label')\n",
        "    plt.xlabel('Predicted label')\n",
        "    plt.tight_layout()\n",
        "    plt.show()"
      ]
    },
    {
      "cell_type": "markdown",
      "metadata": {
        "id": "6As0CJB9wJkD"
      },
      "source": [
        "# training then model"
      ]
    },
    {
      "cell_type": "code",
      "execution_count": null,
      "metadata": {
        "execution": {
          "iopub.execute_input": "2024-12-22T15:05:04.731061Z",
          "iopub.status.busy": "2024-12-22T15:05:04.730763Z",
          "iopub.status.idle": "2024-12-22T15:05:04.740304Z",
          "shell.execute_reply": "2024-12-22T15:05:04.739554Z",
          "shell.execute_reply.started": "2024-12-22T15:05:04.731038Z"
        },
        "id": "dn9U3dR3wJkE",
        "trusted": true
      },
      "outputs": [],
      "source": [
        "def train_and_evaluate(data_path, model_name=\"google/vit-base-patch16-224-in21k\", num_train_epochs=2):\n",
        "    train_data, test_data, labels_list, id2label, label2id = load_and_preprocess_data(data_path)\n",
        "\n",
        "    processor = ViTImageProcessor.from_pretrained(model_name)\n",
        "    image_mean, image_std = processor.image_mean, processor.image_std\n",
        "    size = processor.size[\"height\"]\n",
        "\n",
        "    # image transformations\n",
        "    train_transforms, val_transforms = define_transforms(image_mean, image_std, size)\n",
        "    train_data.set_transform(train_transforms)\n",
        "    test_data.set_transform(val_transforms)\n",
        "\n",
        "    def collate_fn(examples):\n",
        "        pixel_values = torch.stack([example[\"pixel_values\"] for example in examples])\n",
        "        labels = torch.tensor([example['label'] for example in examples])\n",
        "        return {\"pixel_values\": pixel_values, \"labels\": labels}\n",
        "\n",
        "    # ViT model\n",
        "    model = ViTForImageClassification.from_pretrained(model_name, num_labels=len(labels_list))\n",
        "    model.config.id2label = id2label\n",
        "    model.config.label2id = label2id\n",
        "\n",
        "    accuracy = evaluate.load(\"accuracy\")\n",
        "\n",
        "    def compute_metrics(eval_pred, accuracy):\n",
        "        predictions = eval_pred.predictions\n",
        "        label_ids = eval_pred.label_ids\n",
        "        predicted_labels = predictions.argmax(axis=1)\n",
        "        acc_score = accuracy.compute(predictions=predicted_labels, references=label_ids)['accuracy']\n",
        "        return {\n",
        "            \"accuracy\": acc_score\n",
        "        }\n",
        "\n",
        "    args = TrainingArguments(\n",
        "        output_dir=\"/content/drive/MyDrive/omdena_hackathon/models/deepfake_image_detector\",\n",
        "        logging_dir='/content/drive/MyDrive/omdena_hackathon/logs',\n",
        "        evaluation_strategy=\"epoch\",\n",
        "        learning_rate=1e-5,\n",
        "        per_device_train_batch_size=32,\n",
        "        per_device_eval_batch_size=16,\n",
        "        num_train_epochs=num_train_epochs,\n",
        "        weight_decay=0.01,\n",
        "        warmup_steps=50,\n",
        "        remove_unused_columns=False,\n",
        "        save_strategy='epoch',\n",
        "        load_best_model_at_end=True,\n",
        "        save_total_limit=1,\n",
        "        report_to=\"none\"\n",
        "    )\n",
        "\n",
        "    trainer = Trainer(\n",
        "        model=model,\n",
        "        args=args,\n",
        "        train_dataset=train_data,\n",
        "        eval_dataset=test_data,\n",
        "        data_collator=collate_fn,\n",
        "        compute_metrics=lambda eval_pred: compute_metrics(eval_pred, accuracy),\n",
        "        tokenizer=processor,\n",
        "    )\n",
        "\n",
        "    trainer.evaluate()\n",
        "\n",
        "    trainer.train()\n",
        "\n",
        "    trainer.evaluate()\n",
        "\n",
        "    outputs = trainer.predict(test_data)\n",
        "    print(outputs.metrics)\n",
        "\n",
        "    # eval metrics\n",
        "\n",
        "    y_true = outputs.label_ids\n",
        "    y_pred = outputs.predictions.argmax(1)\n",
        "    acc = accuracy_score(y_true, y_pred)\n",
        "    f1 = f1_score(y_true, y_pred, average='macro')\n",
        "    print(f\"Accuracy: {acc:.4f}\")\n",
        "    print(f\"F1 Score: {f1:.4f}\")\n",
        "\n",
        "    if len(labels_list) <= 150:\n",
        "        cm = confusion_matrix(y_true, y_pred)\n",
        "        plot_confusion_matrix(cm, labels_list, figsize=(8, 6))\n",
        "\n",
        "    print(\"\\nClassification report:\\n\")\n",
        "    print(classification_report(y_true, y_pred, target_names=labels_list, digits=4))\n",
        "\n",
        "    trainer.save_model()\n"
      ]
    },
    {
      "cell_type": "code",
      "execution_count": null,
      "metadata": {
        "colab": {
          "referenced_widgets": [
            "6575319f9197402eadcc394ebfd9ac52",
            "380d08a44fd540aaaafc0f7dd1dc4dc2"
          ]
        },
        "execution": {
          "iopub.execute_input": "2024-12-22T15:05:05.696612Z",
          "iopub.status.busy": "2024-12-22T15:05:05.696312Z",
          "iopub.status.idle": "2024-12-22T17:55:31.983353Z",
          "shell.execute_reply": "2024-12-22T17:55:31.982696Z",
          "shell.execute_reply.started": "2024-12-22T15:05:05.696586Z"
        },
        "id": "L2V6EsRcwJkE",
        "outputId": "db1a5aee-bd60-4a45-ceb9-8ec0cbd49f56",
        "trusted": true
      },
      "outputs": [
        {
          "data": {
            "application/vnd.jupyter.widget-view+json": {
              "model_id": "6575319f9197402eadcc394ebfd9ac52",
              "version_major": 2,
              "version_minor": 0
            },
            "text/plain": [
              "Map:   0%|          | 0/190402 [00:00<?, ? examples/s]"
            ]
          },
          "metadata": {},
          "output_type": "display_data"
        },
        {
          "data": {
            "application/vnd.jupyter.widget-view+json": {
              "model_id": "380d08a44fd540aaaafc0f7dd1dc4dc2",
              "version_major": 2,
              "version_minor": 0
            },
            "text/plain": [
              "Casting the dataset:   0%|          | 0/190402 [00:00<?, ? examples/s]"
            ]
          },
          "metadata": {},
          "output_type": "display_data"
        },
        {
          "name": "stderr",
          "output_type": "stream",
          "text": [
            "Some weights of ViTForImageClassification were not initialized from the model checkpoint at google/vit-base-patch16-224-in21k and are newly initialized: ['classifier.bias', 'classifier.weight']\n",
            "You should probably TRAIN this model on a down-stream task to be able to use it for predictions and inference.\n"
          ]
        },
        {
          "data": {
            "text/html": [
              "\n",
              "    <div>\n",
              "      \n",
              "      <progress value='4762' max='2381' style='width:300px; height:20px; vertical-align: middle;'></progress>\n",
              "      [2381/2381 1:24:09]\n",
              "    </div>\n",
              "    "
            ],
            "text/plain": [
              "<IPython.core.display.HTML object>"
            ]
          },
          "metadata": {},
          "output_type": "display_data"
        },
        {
          "data": {
            "text/html": [
              "\n",
              "    <div>\n",
              "      \n",
              "      <progress value='3572' max='3572' style='width:300px; height:20px; vertical-align: middle;'></progress>\n",
              "      [3572/3572 2:07:07, Epoch 2/2]\n",
              "    </div>\n",
              "    <table border=\"1\" class=\"dataframe\">\n",
              "  <thead>\n",
              " <tr style=\"text-align: left;\">\n",
              "      <th>Epoch</th>\n",
              "      <th>Training Loss</th>\n",
              "      <th>Validation Loss</th>\n",
              "      <th>Accuracy</th>\n",
              "    </tr>\n",
              "  </thead>\n",
              "  <tbody>\n",
              "    <tr>\n",
              "      <td>1</td>\n",
              "      <td>0.110400</td>\n",
              "      <td>0.097075</td>\n",
              "      <td>0.965586</td>\n",
              "    </tr>\n",
              "    <tr>\n",
              "      <td>2</td>\n",
              "      <td>0.075700</td>\n",
              "      <td>0.089813</td>\n",
              "      <td>0.968724</td>\n",
              "    </tr>\n",
              "  </tbody>\n",
              "</table><p>"
            ],
            "text/plain": [
              "<IPython.core.display.HTML object>"
            ]
          },
          "metadata": {},
          "output_type": "display_data"
        },
        {
          "data": {
            "text/html": [],
            "text/plain": [
              "<IPython.core.display.HTML object>"
            ]
          },
          "metadata": {},
          "output_type": "display_data"
        },
        {
          "name": "stdout",
          "output_type": "stream",
          "text": [
            "{'test_loss': 0.08981271088123322, 'test_accuracy': 0.9687241501555914, 'test_runtime': 756.472, 'test_samples_per_second': 100.679, 'test_steps_per_second': 3.148}\n",
            "Accuracy: 0.9687\n",
            "F1 Score: 0.9687\n"
          ]
        },
        {
          "data": {
            "image/png": "[encoded data removed]",
            "text/plain": [
              "<Figure size 800x600 with 2 Axes>"
            ]
          },
          "metadata": {},
          "output_type": "display_data"
        },
        {
          "name": "stdout",
          "output_type": "stream",
          "text": [
            "\n",
            "Classification report:\n",
            "\n",
            "              precision    recall  f1-score   support\n",
            "\n",
            "        Real     0.9576    0.9809    0.9691     38080\n",
            "        Fake     0.9804    0.9565    0.9683     38081\n",
            "\n",
            "    accuracy                         0.9687     76161\n",
            "   macro avg     0.9690    0.9687    0.9687     76161\n",
            "weighted avg     0.9690    0.9687    0.9687     76161\n",
            "\n"
          ]
        }
      ],
      "source": [
        "data_path = '/content/drive/MyDrive/omdena_hackathon/datasets/deepfake_image'\n",
        "train_and_evaluate(data_path)"
      ]
    },
    {
      "cell_type": "markdown",
      "metadata": {
        "id": "gyCxaMvTwJkE"
      },
      "source": [
        "# thoughts\n",
        "\n",
        "Training this image classification model with ViT was definitely a challenge, but it’s turning out to be really effective. We used oversampling to deal with imbalanced datasets, and some pretty cool image transformations to make the model more solid. But yea, there were hiccups, like running out of resources and the occasional crashes since this project was really just a passion project and developing this on a tight setup + academic worries wasn’t easy. In the end, it might not be perfect, but it’s a project we worked hard on."
      ]
    }
  ],
  "metadata": {
    "colab": {
      "provenance": []
    },
    "kaggle": {
      "accelerator": "none",
      "dataSources": [
        {
          "datasetId": 1909705,
          "sourceId": 3134515,
          "sourceType": "datasetVersion"
        }
      ],
      "dockerImageVersionId": 30823,
      "isGpuEnabled": false,
      "isInternetEnabled": true,
      "language": "python",
      "sourceType": "notebook"
    },
    "kernelspec": {
      "display_name": "Python 3",
      "language": "python",
      "name": "python3"
    },
    "language_info": {
      "codemirror_mode": {
        "name": "ipython",
        "version": 3
      },
      "file_extension": ".py",
      "mimetype": "text/x-python",
      "name": "python",
      "nbconvert_exporter": "python",
      "pygments_lexer": "ipython3",
      "version": "3.10.12"
    }
  },
  "nbformat": 4,
  "nbformat_minor": 0
}
